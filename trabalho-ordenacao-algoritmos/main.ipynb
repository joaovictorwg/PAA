{
 "cells": [
  {
   "cell_type": "markdown",
   "metadata": {},
   "source": [
    "# Código para Gerar Listas"
   ]
  },
  {
   "cell_type": "code",
   "execution_count": 3,
   "metadata": {},
   "outputs": [
    {
     "name": "stdout",
     "output_type": "stream",
     "text": [
      "Exemplo de listas de tamanho 1000:\n",
      "Lista Aleatória (primeiros 10 elementos): [426, 664, 389, 669, 231, 106, 191, 366, 106, 311]\n",
      "Lista Ordenada (primeiros 10 elementos): [1, 2, 2, 6, 7, 8, 11, 11, 12, 12]\n",
      "Lista Inversa (primeiros 10 elementos): [999, 997, 996, 995, 995, 995, 994, 994, 994, 994]\n",
      "----------------------------------------\n",
      "Exemplo de listas de tamanho 10000:\n",
      "Lista Aleatória (primeiros 10 elementos): [8424, 3969, 9618, 376, 1181, 5049, 4669, 7358, 520, 7734]\n",
      "Lista Ordenada (primeiros 10 elementos): [1, 1, 1, 1, 3, 4, 4, 4, 4, 5]\n",
      "Lista Inversa (primeiros 10 elementos): [10000, 9999, 9998, 9997, 9996, 9996, 9995, 9994, 9993, 9988]\n",
      "----------------------------------------\n",
      "Exemplo de listas de tamanho 50000:\n",
      "Lista Aleatória (primeiros 10 elementos): [27347, 7490, 24734, 48203, 18436, 42504, 13799, 40449, 27617, 42764]\n",
      "Lista Ordenada (primeiros 10 elementos): [1, 2, 3, 4, 5, 5, 6, 8, 11, 12]\n",
      "Lista Inversa (primeiros 10 elementos): [49997, 49997, 49995, 49995, 49995, 49991, 49989, 49989, 49989, 49989]\n",
      "----------------------------------------\n",
      "Exemplo de listas de tamanho 100000:\n",
      "Lista Aleatória (primeiros 10 elementos): [30968, 38036, 58826, 92534, 45274, 51770, 8353, 59480, 18182, 10471]\n",
      "Lista Ordenada (primeiros 10 elementos): [1, 2, 3, 6, 6, 8, 9, 10, 11, 11]\n",
      "Lista Inversa (primeiros 10 elementos): [99996, 99996, 99996, 99995, 99994, 99993, 99992, 99991, 99990, 99990]\n",
      "----------------------------------------\n"
     ]
    }
   ],
   "source": [
    "import random\n",
    "\n",
    "# Função para gerar as listas\n",
    "def gerar_listas(tamanho):\n",
    "    # Lista aleatória\n",
    "    lista_aleatoria = [random.randint(1, tamanho) for _ in range(tamanho)]\n",
    "    \n",
    "    # Lista ordenada\n",
    "    lista_ordenada = sorted(lista_aleatoria)\n",
    "    \n",
    "    # Lista inversamente ordenada\n",
    "    lista_inversa = sorted(lista_aleatoria, reverse=True)\n",
    "    \n",
    "    return lista_aleatoria, lista_ordenada, lista_inversa\n",
    "\n",
    "# Tamanhos das listas\n",
    "tamanhos = [1000, 10000, 50000, 100000]\n",
    "\n",
    "# Gerando as listas para cada tamanho\n",
    "for tamanho in tamanhos:\n",
    "    aleatoria, ordenada, inversa = gerar_listas(tamanho)\n",
    "    \n",
    "    # Exibindo exemplos\n",
    "    print(f\"Exemplo de listas de tamanho {tamanho}:\")\n",
    "    print(f\"Lista Aleatória (primeiros 10 elementos): {aleatoria[:10]}\")\n",
    "    print(f\"Lista Ordenada (primeiros 10 elementos): {ordenada[:10]}\")\n",
    "    print(f\"Lista Inversa (primeiros 10 elementos): {inversa[:10]}\")\n",
    "    print(\"-\" * 40)\n"
   ]
  },
  {
   "cell_type": "markdown",
   "metadata": {},
   "source": []
  },
  {
   "cell_type": "code",
   "execution_count": null,
   "metadata": {},
   "outputs": [],
   "source": []
  }
 ],
 "metadata": {
  "kernelspec": {
   "display_name": "Python 3",
   "language": "python",
   "name": "python3"
  },
  "language_info": {
   "codemirror_mode": {
    "name": "ipython",
    "version": 3
   },
   "file_extension": ".py",
   "mimetype": "text/x-python",
   "name": "python",
   "nbconvert_exporter": "python",
   "pygments_lexer": "ipython3",
   "version": "3.12.5"
  }
 },
 "nbformat": 4,
 "nbformat_minor": 2
}
